{
 "cells": [
  {
   "cell_type": "markdown",
   "id": "152d6621",
   "metadata": {},
   "source": [
    "The purpose of this notebook is to create several models to predict salary based on key player stats and to compare the different model results."
   ]
  },
  {
   "cell_type": "code",
   "execution_count": 1,
   "id": "dd089ddb",
   "metadata": {},
   "outputs": [],
   "source": [
    "# basic imports\n",
    "import pandas as pd\n",
    "import numpy as np\n",
    "import matplotlib.pyplot as plt\n",
    "import seaborn as sns\n",
    "\n",
    "# model specific imports\n",
    "from sklearn.model_selection import train_test_split\n",
    "from sklearn.linear_model import LinearRegression\n",
    "from sklearn.metrics import r2_score\n",
    "from sklearn.metrics import mean_absolute_error\n",
    "from sklearn.metrics import mean_squared_error\n",
    "from sklearn.linear_model import Ridge\n",
    "from sklearn.linear_model import Lasso\n",
    "from sklearn.model_selection import cross_validate\n",
    "from sklearn.neighbors import KNeighborsRegressor\n",
    "from sklearn.ensemble import RandomForestRegressor"
   ]
  },
  {
   "cell_type": "code",
   "execution_count": 2,
   "id": "0a286f49",
   "metadata": {},
   "outputs": [
    {
     "name": "stdout",
     "output_type": "stream",
     "text": [
      "(116, 45) (39, 45) (52, 45) (116, 1) (39, 1) (52, 1)\n"
     ]
    }
   ],
   "source": [
    "# load the train/test data that was pre-processed in a previous notebook\n",
    "X_train = pd.read_csv('NBA X_train', index_col=0)\n",
    "X_test = pd.read_csv('NBA X_test', index_col=0)\n",
    "y_train = pd.read_csv('NBA y_train', index_col=0)\n",
    "y_test = pd.read_csv('NBA y_test', index_col=0)\n",
    "\n",
    "# create a validation set\n",
    "X_train, X_val, y_train, y_val = train_test_split(X_train, y_train, test_size=0.25, random_state=10)\n",
    "\n",
    "print(X_train.shape, X_val.shape, X_test.shape, y_train.shape, y_val.shape, y_test.shape)"
   ]
  },
  {
   "cell_type": "code",
   "execution_count": 3,
   "id": "cabeb151",
   "metadata": {},
   "outputs": [
    {
     "name": "stdout",
     "output_type": "stream",
     "text": [
      "(116,) (39,) (52,)\n"
     ]
    }
   ],
   "source": [
    "# reshape the y data\n",
    "y_train = y_train['Salary (millions)'].to_numpy()\n",
    "y_val = y_val['Salary (millions)'].to_numpy()\n",
    "y_test = y_test['Salary (millions)'].to_numpy()\n",
    "print(y_train.shape, y_val.shape, y_test.shape)"
   ]
  },
  {
   "cell_type": "code",
   "execution_count": 4,
   "id": "e1a4100f",
   "metadata": {},
   "outputs": [],
   "source": [
    "# define rmse function\n",
    "\n",
    "def rmse_func(model, X, y):\n",
    "    predictions = model.predict(X)\n",
    "    rmse = np.sqrt(mean_squared_error(predictions, y))\n",
    "    return(rmse)"
   ]
  },
  {
   "cell_type": "markdown",
   "id": "d636c94a",
   "metadata": {},
   "source": [
    "# Linear Regression Model"
   ]
  },
  {
   "cell_type": "code",
   "execution_count": 5,
   "id": "c47dcd09",
   "metadata": {},
   "outputs": [],
   "source": [
    "# initiate the linear regression model and fit it to the training data\n",
    "lm = LinearRegression()\n",
    "lm.fit(X_train, y_train)\n",
    "\n",
    "# predict the test set results\n",
    "y_pred = lm.predict(X_test)"
   ]
  },
  {
   "cell_type": "markdown",
   "id": "2e2b7066",
   "metadata": {},
   "source": [
    "Evaluate the Linear Regression Model"
   ]
  },
  {
   "cell_type": "code",
   "execution_count": 6,
   "id": "9e97785f",
   "metadata": {},
   "outputs": [
    {
     "name": "stdout",
     "output_type": "stream",
     "text": [
      "The r-squared value is -0.0020774553629308024\n",
      "The root mean square error is 10.771858867295135\n",
      "The mean absolute error is 8.616003359311526\n"
     ]
    }
   ],
   "source": [
    "print('The r-squared value is ' + str(r2_score(y_test, y_pred)))\n",
    "print('The root mean square error is ' + str(rmse_func(lm, X_test, y_test)))\n",
    "print('The mean absolute error is ' + str(mean_absolute_error(y_pred, y_test)))"
   ]
  },
  {
   "cell_type": "code",
   "execution_count": 7,
   "id": "800868fc",
   "metadata": {},
   "outputs": [
    {
     "data": {
      "image/png": "[encoded data removed]",
      "text/plain": [
       "<Figure size 360x360 with 1 Axes>"
      ]
     },
     "metadata": {
      "needs_background": "light"
     },
     "output_type": "display_data"
    }
   ],
   "source": [
    "plt.figure(figsize=(5,5))\n",
    "plt.scatter(y_test, y_pred)\n",
    "plt.plot([0,40], [0,40], 'k-', color='r')\n",
    "plt.xlabel('Actual')\n",
    "plt.ylabel('Predicted')\n",
    "plt.title('Actual vs Predicted')\n",
    "plt.show()"
   ]
  },
  {
   "cell_type": "code",
   "execution_count": 8,
   "id": "430d830f",
   "metadata": {},
   "outputs": [
    {
     "name": "stdout",
     "output_type": "stream",
     "text": [
      "Feature 0: Age, Score: 3.0971941665704654\n",
      "Feature 1: G, Score: 1.6823808502647848\n",
      "Feature 2: GS, Score: 3.9040516415180138\n",
      "Feature 3: MP, Score: -3.67172335329159\n",
      "Feature 4: FG, Score: 2.619084227323573\n",
      "Feature 5: FGA, Score: -17.87941095786164\n",
      "Feature 6: FG%, Score: -2.105874759645216\n",
      "Feature 7: 3P, Score: 35.36856666136021\n",
      "Feature 8: 3PA, Score: 8.300483035200383\n",
      "Feature 9: 3P%, Score: -1.23976707873891\n",
      "Feature 10: 2P, Score: 42.22094193107198\n",
      "Feature 11: 2PA, Score: 11.317065922302646\n",
      "Feature 12: 2P%, Score: -1.0637920153119844\n",
      "Feature 13: FT, Score: 8.63725886805078\n",
      "Feature 14: FTA, Score: 6.047109002437306\n",
      "Feature 15: FT%, Score: 0.9135761612093622\n",
      "Feature 16: ORB, Score: -29.271968641700138\n",
      "Feature 17: DRB, Score: -49.11498174736148\n",
      "Feature 18: TRB, Score: 74.24837797246576\n",
      "Feature 19: AST, Score: 4.278378396162735\n",
      "Feature 20: STL, Score: 0.5110462465421729\n",
      "Feature 21: BLK, Score: 0.7732020460765858\n",
      "Feature 22: TOV, Score: -0.8487044978943606\n",
      "Feature 23: PF, Score: -0.9402786217428479\n",
      "Feature 24: PTS, Score: -48.70308428589083\n",
      "Feature 25: Team_Value, Score: -0.4946374850082753\n",
      "Feature 26: Pos_C, Score: -2.747647480612221\n",
      "Feature 27: Pos_PF, Score: 0.5852513873791079\n",
      "Feature 28: Pos_PG, Score: -2.106744159236242\n",
      "Feature 29: Pos_SF, Score: 2.9384699809572705\n",
      "Feature 30: Pos_SG, Score: 1.3306702715126932\n",
      "Feature 31: Signed Using_Bi-annual Exception, Score: -1.6131461364592652\n",
      "Feature 32: Signed Using_Cap Space, Score: 3.4797417704625278\n",
      "Feature 33: Signed Using_Early Bird Rights, Score: 5.036926127385896\n",
      "Feature 34: Signed Using_MLE, Score: -4.404765924944258\n",
      "Feature 35: Signed Using_Maximum Salary, Score: 8.573691577310719\n",
      "Feature 36: Signed Using_Minimum Salary, Score: -3.1393642462663323\n",
      "Feature 37: Signed Using_Non-Bird Exception, Score: -5.968655974863532\n",
      "Feature 38: Signed Using_Room Exception, Score: -1.879743547334906\n",
      "Feature 39: Signed Using_Sign and Trade, Score: 5.842947959336332\n",
      "Feature 40: Signed Using_Unknown, Score: -5.9276316046273365\n",
      "Feature 41: Market Size_large, Score: 0.7577688792778177\n",
      "Feature 42: Market Size_medium, Score: 0.7849814870601827\n",
      "Feature 43: Market Size_small, Score: -1.5427503663374755\n",
      "Feature 44: Signed Using_DPE, Score: 0.0\n"
     ]
    },
    {
     "data": {
      "image/png": "[encoded data removed]",
      "text/plain": [
       "<Figure size 720x720 with 1 Axes>"
      ]
     },
     "metadata": {
      "needs_background": "light"
     },
     "output_type": "display_data"
    }
   ],
   "source": [
    "# Determine coefficients\n",
    "coefs = lm.coef_\n",
    "\n",
    "# summarize feature importance\n",
    "for i in range(len(coefs)):\n",
    "    print('Feature ' + str(i) + ': ' + X_train.columns[i] + ', Score: ' + str(coefs[i]))\n",
    "    \n",
    "# plot feature importance\n",
    "plt.figure(figsize=(10,10))\n",
    "plt.bar([x for x in range(len(coefs))], abs(coefs))\n",
    "plt.xlabel('Feature Number')\n",
    "plt.ylabel('Absolute Feature Importance')\n",
    "plt.show()"
   ]
  },
  {
   "cell_type": "markdown",
   "id": "936741e6",
   "metadata": {},
   "source": [
    "Even as a first attempt, this is not a very good model.  The r squared value is close to 0 and there are several predicted values below 0, meaning a player would be losing money by playing, which is obviously not true.  Ideally, the actual vs predicted plot points would all be on the red line or very near to it."
   ]
  },
  {
   "cell_type": "markdown",
   "id": "de4fedbb",
   "metadata": {},
   "source": [
    "# Ridge Regression"
   ]
  },
  {
   "cell_type": "code",
   "execution_count": 9,
   "id": "bf2e4024",
   "metadata": {},
   "outputs": [
    {
     "data": {
      "image/png": "[encoded data removed]",
      "text/plain": [
       "<Figure size 432x288 with 3 Axes>"
      ]
     },
     "metadata": {
      "needs_background": "light"
     },
     "output_type": "display_data"
    }
   ],
   "source": [
    "# find optimal alpha value\n",
    "alphas = np.arange(0.1, 50, 1)\n",
    "r2_scores = []\n",
    "rmses = []\n",
    "maes = []\n",
    "\n",
    "for alpha in alphas:\n",
    "    ridge = Ridge(alpha=alpha)\n",
    "    ridge.fit(X_train, y_train)\n",
    "    y_pred = ridge.predict(X_val)\n",
    "    r2_scores.append(r2_score(y_val, y_pred))\n",
    "    rmses.append(rmse_func(ridge, X_val, y_val))\n",
    "    maes.append(mean_absolute_error(y_pred, y_val))\n",
    "    \n",
    "fig, ax = plt.subplots(3, 1)\n",
    "fig.tight_layout()\n",
    "plt.xlabel('alpha')\n",
    "\n",
    "ax[0].plot(alphas, r2_scores)\n",
    "ax[0].set_ylabel('r2 score')\n",
    "\n",
    "ax[1].plot(alphas, rmses)\n",
    "ax[1].set_ylabel('rmse')\n",
    "\n",
    "ax[2].plot(alphas, maes)\n",
    "ax[2].set_ylabel('mae')\n",
    "\n",
    "plt.show()"
   ]
  },
  {
   "cell_type": "code",
   "execution_count": 10,
   "id": "ace298cf",
   "metadata": {},
   "outputs": [
    {
     "name": "stdout",
     "output_type": "stream",
     "text": [
      "0.1 0.1 0.1\n"
     ]
    }
   ],
   "source": [
    "max_r2 = max(r2_scores)\n",
    "max_index = r2_scores.index(max_r2)\n",
    "best_alpha_r2 = alphas[max_index]\n",
    "\n",
    "min_rmse = min(rmses)\n",
    "min_index = rmses.index(min_rmse)\n",
    "best_alpha_rmse = alphas[min_index]\n",
    "\n",
    "min_mae = min(maes)\n",
    "min_index = maes.index(min_mae)\n",
    "best_alpha_mae = alphas[min_index]\n",
    "\n",
    "print(best_alpha_r2, best_alpha_rmse, best_alpha_mae)"
   ]
  },
  {
   "cell_type": "code",
   "execution_count": 11,
   "id": "339c9580",
   "metadata": {},
   "outputs": [],
   "source": [
    "ridge = Ridge(alpha=0.1)\n",
    "ridge.fit(X_train, y_train)\n",
    "y_pred = ridge.predict(X_test)"
   ]
  },
  {
   "cell_type": "code",
   "execution_count": 12,
   "id": "fdf25add",
   "metadata": {},
   "outputs": [
    {
     "data": {
      "image/png": "[encoded data removed]",
      "text/plain": [
       "<Figure size 360x360 with 1 Axes>"
      ]
     },
     "metadata": {
      "needs_background": "light"
     },
     "output_type": "display_data"
    }
   ],
   "source": [
    "plt.figure(figsize=(5,5))\n",
    "plt.scatter(y_test, y_pred)\n",
    "plt.plot([0, 40], [0, 40], 'k-', c='r')\n",
    "plt.xlabel('Actual')\n",
    "plt.ylabel('Predicted')\n",
    "plt.title('Actual vs Predicted')\n",
    "plt.show()"
   ]
  },
  {
   "cell_type": "code",
   "execution_count": 13,
   "id": "700b710c",
   "metadata": {},
   "outputs": [
    {
     "name": "stdout",
     "output_type": "stream",
     "text": [
      "The r squared value is 0.04771483169034263\n",
      "The root mean square error is 10.500827374005986\n",
      "The mean absolute error is 8.639490917464295\n"
     ]
    }
   ],
   "source": [
    "print('The r squared value is ' + str(r2_score(y_test, y_pred)))\n",
    "print('The root mean square error is ' + str(rmse_func(ridge, X_test, y_test)))\n",
    "print('The mean absolute error is ' + str(mean_absolute_error(y_pred, y_test)))"
   ]
  },
  {
   "cell_type": "code",
   "execution_count": 14,
   "id": "a6ba86be",
   "metadata": {},
   "outputs": [
    {
     "name": "stdout",
     "output_type": "stream",
     "text": [
      "Feature 0: Age, Score: 3.127029311113101\n",
      "Feature 1: G, Score: 1.4948124864559391\n",
      "Feature 2: GS, Score: 3.938345701279666\n",
      "Feature 3: MP, Score: -3.760613007618291\n",
      "Feature 4: FG, Score: 1.2417121455422564\n",
      "Feature 5: FGA, Score: -2.573195698519897\n",
      "Feature 6: FG%, Score: -2.0902456383331782\n",
      "Feature 7: 3P, Score: 7.203852774678529\n",
      "Feature 8: 3PA, Score: -1.910518196304102\n",
      "Feature 9: 3P%, Score: -1.21173507975066\n",
      "Feature 10: 2P, Score: 8.134786154342464\n",
      "Feature 11: 2PA, Score: -1.25650790066663\n",
      "Feature 12: 2P%, Score: -0.6712251849244305\n",
      "Feature 13: FT, Score: -0.4995266999401698\n",
      "Feature 14: FTA, Score: 2.0958173467687207\n",
      "Feature 15: FT%, Score: 0.4420168192344061\n",
      "Feature 16: ORB, Score: -2.476622961968846\n",
      "Feature 17: DRB, Score: -2.9322540202388234\n",
      "Feature 18: TRB, Score: 6.903760776221724\n",
      "Feature 19: AST, Score: 3.433002092973019\n",
      "Feature 20: STL, Score: 0.41334130636713257\n",
      "Feature 21: BLK, Score: 0.6516462939292536\n",
      "Feature 22: TOV, Score: -0.3999049259831262\n",
      "Feature 23: PF, Score: -0.8800702343064872\n",
      "Feature 24: PTS, Score: -2.8602571900440243\n",
      "Feature 25: Team_Value, Score: -0.13503639081285024\n",
      "Feature 26: Pos_C, Score: -2.799470188775891\n",
      "Feature 27: Pos_PF, Score: 0.734338140681041\n",
      "Feature 28: Pos_PG, Score: -1.4393744424783033\n",
      "Feature 29: Pos_SF, Score: 2.703807255943477\n",
      "Feature 30: Pos_SG, Score: 0.8006992346287117\n",
      "Feature 31: Signed Using_Bi-annual Exception, Score: 0.3772909850709442\n",
      "Feature 32: Signed Using_Cap Space, Score: 3.669872382640617\n",
      "Feature 33: Signed Using_Early Bird Rights, Score: 5.116443798473766\n",
      "Feature 34: Signed Using_MLE, Score: -3.567798238618718\n",
      "Feature 35: Signed Using_Maximum Salary, Score: 7.575337494296654\n",
      "Feature 36: Signed Using_Minimum Salary, Score: -3.2683474243916106\n",
      "Feature 37: Signed Using_Non-Bird Exception, Score: -6.482203854730982\n",
      "Feature 38: Signed Using_Room Exception, Score: -2.473006945262571\n",
      "Feature 39: Signed Using_Sign and Trade, Score: 5.530752640974844\n",
      "Feature 40: Signed Using_Unknown, Score: -6.478340838451036\n",
      "Feature 41: Market Size_large, Score: 0.24282902087359284\n",
      "Feature 42: Market Size_medium, Score: 0.639221612471241\n",
      "Feature 43: Market Size_small, Score: -0.8820506333439246\n",
      "Feature 44: Signed Using_DPE, Score: 0.0\n"
     ]
    },
    {
     "data": {
      "image/png": "[encoded data removed]",
      "text/plain": [
       "<Figure size 720x720 with 1 Axes>"
      ]
     },
     "metadata": {
      "needs_background": "light"
     },
     "output_type": "display_data"
    }
   ],
   "source": [
    "# Determine coefficients\n",
    "coefs = ridge.coef_\n",
    "\n",
    "# summarize feature importance\n",
    "for i in range(len(coefs)):\n",
    "    print('Feature ' + str(i) + ': ' + X_train.columns[i] + ', Score: ' + str(coefs[i]))\n",
    "    \n",
    "# plot feature importance\n",
    "plt.figure(figsize=(10,10))\n",
    "plt.bar([x for x in range(len(coefs))], abs(coefs))\n",
    "plt.xlabel('Feature Number')\n",
    "plt.ylabel('Absolute Feature Importance')\n",
    "plt.show()"
   ]
  },
  {
   "cell_type": "markdown",
   "id": "888f5288",
   "metadata": {},
   "source": [
    "# Lasso"
   ]
  },
  {
   "cell_type": "code",
   "execution_count": 15,
   "id": "a08afd07",
   "metadata": {},
   "outputs": [
    {
     "name": "stderr",
     "output_type": "stream",
     "text": [
      "<ipython-input-15-0dfe864c4dbf>:9: UserWarning: With alpha=0, this algorithm does not converge well. You are advised to use the LinearRegression estimator\n",
      "  lasso.fit(X_train, y_train)\n",
      "C:\\Users\\Matthew\\anaconda3\\lib\\site-packages\\sklearn\\linear_model\\_coordinate_descent.py:530: UserWarning: Coordinate descent with no regularization may lead to unexpected results and is discouraged.\n",
      "  model = cd_fast.enet_coordinate_descent(\n",
      "C:\\Users\\Matthew\\anaconda3\\lib\\site-packages\\sklearn\\linear_model\\_coordinate_descent.py:530: ConvergenceWarning: Objective did not converge. You might want to increase the number of iterations. Duality gap: 1268.913568941011, tolerance: 1.3651873115179256\n",
      "  model = cd_fast.enet_coordinate_descent(\n"
     ]
    },
    {
     "data": {
      "image/png": "[encoded data removed]",
      "text/plain": [
       "<Figure size 432x288 with 3 Axes>"
      ]
     },
     "metadata": {
      "needs_background": "light"
     },
     "output_type": "display_data"
    }
   ],
   "source": [
    "# find optimal alpha value\n",
    "alphas = np.arange(0, 1, 0.1)\n",
    "r2_scores = []\n",
    "rmses = []\n",
    "maes = []\n",
    "\n",
    "for alpha in alphas:\n",
    "    lasso = Lasso(alpha=alpha)\n",
    "    lasso.fit(X_train, y_train)\n",
    "    y_pred = lasso.predict(X_val)\n",
    "    r2_scores.append(r2_score(y_val, y_pred))\n",
    "    rmses.append(rmse_func(lasso, X_val, y_val))\n",
    "    maes.append(mean_absolute_error(y_pred, y_val))\n",
    "    \n",
    "fig, ax = plt.subplots(3, 1)\n",
    "fig.tight_layout()\n",
    "plt.xlabel('alpha')\n",
    "\n",
    "ax[0].plot(alphas, r2_scores)\n",
    "ax[0].set_ylabel('r2 score')\n",
    "\n",
    "ax[1].plot(alphas, rmses)\n",
    "ax[1].set_ylabel('rmse')\n",
    "\n",
    "ax[2].plot(alphas, maes)\n",
    "ax[2].set_ylabel('mae')\n",
    "\n",
    "plt.show()"
   ]
  },
  {
   "cell_type": "code",
   "execution_count": 16,
   "id": "049704d5",
   "metadata": {},
   "outputs": [
    {
     "name": "stdout",
     "output_type": "stream",
     "text": [
      "0.0 0.0 0.1\n"
     ]
    }
   ],
   "source": [
    "max_r2 = max(r2_scores)\n",
    "max_index = r2_scores.index(max_r2)\n",
    "best_alpha_r2 = alphas[max_index]\n",
    "\n",
    "min_rmse = min(rmses)\n",
    "min_index = rmses.index(min_rmse)\n",
    "best_alpha_rmse = alphas[min_index]\n",
    "\n",
    "min_mae = min(maes)\n",
    "min_index = maes.index(min_mae)\n",
    "best_alpha_mae = alphas[min_index]\n",
    "\n",
    "print(best_alpha_r2, best_alpha_rmse, best_alpha_mae)"
   ]
  },
  {
   "cell_type": "code",
   "execution_count": 17,
   "id": "f0c9c0b1",
   "metadata": {},
   "outputs": [
    {
     "name": "stderr",
     "output_type": "stream",
     "text": [
      "<ipython-input-17-242f7f73eca3>:2: UserWarning: With alpha=0, this algorithm does not converge well. You are advised to use the LinearRegression estimator\n",
      "  lasso.fit(X_train, y_train)\n",
      "C:\\Users\\Matthew\\anaconda3\\lib\\site-packages\\sklearn\\linear_model\\_coordinate_descent.py:530: UserWarning: Coordinate descent with no regularization may lead to unexpected results and is discouraged.\n",
      "  model = cd_fast.enet_coordinate_descent(\n",
      "C:\\Users\\Matthew\\anaconda3\\lib\\site-packages\\sklearn\\linear_model\\_coordinate_descent.py:530: ConvergenceWarning: Objective did not converge. You might want to increase the number of iterations. Duality gap: 1268.913568941011, tolerance: 1.3651873115179256\n",
      "  model = cd_fast.enet_coordinate_descent(\n"
     ]
    },
    {
     "data": {
      "image/png": "[encoded data removed]",
      "text/plain": [
       "<Figure size 360x360 with 1 Axes>"
      ]
     },
     "metadata": {
      "needs_background": "light"
     },
     "output_type": "display_data"
    }
   ],
   "source": [
    "lasso = Lasso(alpha=0)\n",
    "lasso.fit(X_train, y_train)\n",
    "y_pred = lasso.predict(X_test)\n",
    "\n",
    "plt.figure(figsize=(5,5))\n",
    "plt.scatter(y_test, y_pred)\n",
    "plt.plot([0, 40], [0, 40], 'k-', c='r')\n",
    "plt.xlabel('Actual')\n",
    "plt.ylabel('Predicted')\n",
    "plt.title('Actual vs Predicted')\n",
    "plt.show()"
   ]
  },
  {
   "cell_type": "code",
   "execution_count": 18,
   "id": "5bb1e89b",
   "metadata": {},
   "outputs": [
    {
     "name": "stdout",
     "output_type": "stream",
     "text": [
      "The r squared value is -0.07818295185534141\n",
      "The root mean square error is 11.173422966262681\n",
      "The mean absolute error is 9.023415060625396\n"
     ]
    }
   ],
   "source": [
    "print('The r squared value is ' + str(r2_score(y_test, y_pred)))\n",
    "print('The root mean square error is ' + str(rmse_func(lasso, X_test, y_test)))\n",
    "print('The mean absolute error is ' + str(mean_absolute_error(y_pred, y_test)))"
   ]
  },
  {
   "cell_type": "code",
   "execution_count": 19,
   "id": "834fbbe0",
   "metadata": {},
   "outputs": [
    {
     "name": "stdout",
     "output_type": "stream",
     "text": [
      "Feature 0: Age, Score: 3.1300613993060917\n",
      "Feature 1: G, Score: 1.6400872620694378\n",
      "Feature 2: GS, Score: 4.019532868470718\n",
      "Feature 3: MP, Score: -3.92924278186714\n",
      "Feature 4: FG, Score: 7.359035861715582\n",
      "Feature 5: FGA, Score: 2.0835489567785634\n",
      "Feature 6: FG%, Score: -2.2812390596027736\n",
      "Feature 7: 3P, Score: 6.5920923308315515\n",
      "Feature 8: 3PA, Score: -5.33589084817199\n",
      "Feature 9: 3P%, Score: -1.2129928787701978\n",
      "Feature 10: 2P, Score: 5.819928174211205\n",
      "Feature 11: 2PA, Score: -6.103801865052208\n",
      "Feature 12: 2P%, Score: -0.6960791060476146\n",
      "Feature 13: FT, Score: 0.34460224951292073\n",
      "Feature 14: FTA, Score: 2.537212109222756\n",
      "Feature 15: FT%, Score: 0.5215407165224029\n",
      "Feature 16: ORB, Score: -3.3482242673294267\n",
      "Feature 17: DRB, Score: -4.239821310619489\n",
      "Feature 18: TRB, Score: 8.872123423192598\n",
      "Feature 19: AST, Score: 3.475085124594875\n",
      "Feature 20: STL, Score: 0.41512116216022116\n",
      "Feature 21: BLK, Score: 0.6784061040938539\n",
      "Feature 22: TOV, Score: -0.45679070385066567\n",
      "Feature 23: PF, Score: -0.8595012142903533\n",
      "Feature 24: PTS, Score: -7.355273430202985\n",
      "Feature 25: Team_Value, Score: -0.15210897661536568\n",
      "Feature 26: Pos_C, Score: -3.634591372446692\n",
      "Feature 27: Pos_PF, Score: -0.09785357664194456\n",
      "Feature 28: Pos_PG, Score: -2.2420607085879922\n",
      "Feature 29: Pos_SF, Score: 1.8852731120163626\n",
      "Feature 30: Pos_SG, Score: 0.07064341708138777\n",
      "Feature 31: Signed Using_Bi-annual Exception, Score: 1.8269640622518977\n",
      "Feature 32: Signed Using_Cap Space, Score: 5.2661273408310985\n",
      "Feature 33: Signed Using_Early Bird Rights, Score: 6.827997319987489\n",
      "Feature 34: Signed Using_MLE, Score: -2.0547958978585403\n",
      "Feature 35: Signed Using_Maximum Salary, Score: 10.30604531317438\n",
      "Feature 36: Signed Using_Minimum Salary, Score: -1.7123047469261738\n",
      "Feature 37: Signed Using_Non-Bird Exception, Score: -5.561137901602388\n",
      "Feature 38: Signed Using_Room Exception, Score: -0.8774827019603426\n",
      "Feature 39: Signed Using_Sign and Trade, Score: 7.381263773191957\n",
      "Feature 40: Signed Using_Unknown, Score: -5.119180996200059\n",
      "Feature 41: Market Size_large, Score: 0.47673136650378073\n",
      "Feature 42: Market Size_medium, Score: 0.8709285591684037\n",
      "Feature 43: Market Size_small, Score: -0.6220425143169211\n",
      "Feature 44: Signed Using_DPE, Score: 0.0\n"
     ]
    },
    {
     "data": {
      "image/png": "[encoded data removed]",
      "text/plain": [
       "<Figure size 720x720 with 1 Axes>"
      ]
     },
     "metadata": {
      "needs_background": "light"
     },
     "output_type": "display_data"
    }
   ],
   "source": [
    "# Determine coefficients\n",
    "coefs = lasso.coef_\n",
    "\n",
    "# summarize feature importance\n",
    "for i in range(len(coefs)):\n",
    "    print('Feature ' + str(i) + ': ' + X_train.columns[i] + ', Score: ' + str(coefs[i]))\n",
    "    \n",
    "# plot feature importance\n",
    "plt.figure(figsize=(10,10))\n",
    "plt.bar([x for x in range(len(coefs))], abs(coefs))\n",
    "plt.xlabel('Feature Number')\n",
    "plt.ylabel('Absolute Feature Importance')\n",
    "plt.show()"
   ]
  },
  {
   "cell_type": "markdown",
   "id": "59097159",
   "metadata": {},
   "source": [
    "In general, none of the linear regression models perform very well with this dataset.  They all have very low r-squared values and high RMSE and MAE values relative to the range of salaries in the dataset."
   ]
  },
  {
   "cell_type": "markdown",
   "id": "330c47c1",
   "metadata": {},
   "source": [
    "# KNN Regression"
   ]
  },
  {
   "cell_type": "code",
   "execution_count": 20,
   "id": "23687052",
   "metadata": {},
   "outputs": [
    {
     "data": {
      "image/png": "[encoded data removed]",
      "text/plain": [
       "<Figure size 432x288 with 3 Axes>"
      ]
     },
     "metadata": {
      "needs_background": "light"
     },
     "output_type": "display_data"
    }
   ],
   "source": [
    "# optimize k\n",
    "k_vals = np.arange(1, 10, 1)\n",
    "r2_scores = []\n",
    "rmses = []\n",
    "maes = []\n",
    "\n",
    "for k in k_vals:\n",
    "    knn = KNeighborsRegressor(n_neighbors=k, weights='distance')\n",
    "    knn.fit(X_train, y_train)\n",
    "    y_pred = knn.predict(X_val)\n",
    "    r2_scores.append(r2_score(y_val, y_pred))\n",
    "    rmses.append(rmse_func(knn, X_val, y_val))\n",
    "    maes.append(mean_absolute_error(y_pred, y_val))\n",
    "    \n",
    "fig, ax = plt.subplots(3, 1)\n",
    "fig.tight_layout()\n",
    "plt.xlabel('k value')\n",
    "\n",
    "ax[0].plot(k_vals, r2_scores)\n",
    "ax[0].set_ylabel('r2 score')\n",
    "\n",
    "ax[1].plot(k_vals, rmses)\n",
    "ax[1].set_ylabel('rmse')\n",
    "\n",
    "ax[2].plot(k_vals, maes)\n",
    "ax[2].set_ylabel('mae')\n",
    "\n",
    "plt.show()"
   ]
  },
  {
   "cell_type": "code",
   "execution_count": 21,
   "id": "7faf6221",
   "metadata": {},
   "outputs": [
    {
     "name": "stdout",
     "output_type": "stream",
     "text": [
      "5 5 2\n"
     ]
    }
   ],
   "source": [
    "max_r2 = max(r2_scores)\n",
    "max_index = r2_scores.index(max_r2)\n",
    "best_k_r2 = k_vals[max_index]\n",
    "\n",
    "min_rmse = min(rmses)\n",
    "min_index = rmses.index(min_rmse)\n",
    "best_k_rmse = k_vals[min_index]\n",
    "\n",
    "min_mae = min(maes)\n",
    "min_index = maes.index(min_mae)\n",
    "best_k_mae = k_vals[min_index]\n",
    "\n",
    "print(best_k_r2, best_k_rmse, best_k_mae)"
   ]
  },
  {
   "cell_type": "code",
   "execution_count": 22,
   "id": "7ca0b685",
   "metadata": {},
   "outputs": [
    {
     "data": {
      "image/png": "[encoded data removed]",
      "text/plain": [
       "<Figure size 360x360 with 1 Axes>"
      ]
     },
     "metadata": {
      "needs_background": "light"
     },
     "output_type": "display_data"
    }
   ],
   "source": [
    "knn = KNeighborsRegressor(n_neighbors=5, weights='distance')\n",
    "knn.fit(X_train, y_train)\n",
    "y_pred = knn.predict(X_test)\n",
    "\n",
    "plt.figure(figsize=(5,5))\n",
    "plt.scatter(y_test, y_pred)\n",
    "plt.plot([0, 40], [0, 40], 'k-', c='r')\n",
    "plt.xlabel('Actual')\n",
    "plt.ylabel('Predicted')\n",
    "plt.title('Actual vs Predicted')\n",
    "plt.show()"
   ]
  },
  {
   "cell_type": "code",
   "execution_count": 23,
   "id": "8f361fa3",
   "metadata": {},
   "outputs": [
    {
     "name": "stdout",
     "output_type": "stream",
     "text": [
      "The r squared value is 0.47230712764370664\n",
      "The root mean square error is 7.8168292064011755\n",
      "The mean absolute error is 5.869499472120446\n"
     ]
    }
   ],
   "source": [
    "print('The r squared value is ' + str(r2_score(y_test, y_pred)))\n",
    "print('The root mean square error is ' + str(rmse_func(knn, X_test, y_test)))\n",
    "print('The mean absolute error is ' + str(mean_absolute_error(y_pred, y_test)))"
   ]
  },
  {
   "cell_type": "code",
   "execution_count": 24,
   "id": "e7a8b81a",
   "metadata": {},
   "outputs": [
    {
     "name": "stdout",
     "output_type": "stream",
     "text": [
      "Feature 0: Age, Score: 18.085889131308843\n",
      "Feature 1: G, Score: 14.147011589338485\n",
      "Feature 2: GS, Score: 21.761796214456144\n",
      "Feature 3: MP, Score: 13.852984149203731\n",
      "Feature 4: FG, Score: 15.506300438821288\n",
      "Feature 5: FGA, Score: 13.725488817902919\n",
      "Feature 6: FG%, Score: 12.855031972778056\n",
      "Feature 7: 3P, Score: 13.520438778192448\n",
      "Feature 8: 3PA, Score: 13.12380851570353\n",
      "Feature 9: 3P%, Score: 11.525994963262738\n",
      "Feature 10: 2P, Score: 14.263151620614105\n",
      "Feature 11: 2PA, Score: 13.167053271302084\n",
      "Feature 12: 2P%, Score: 14.12512634308266\n",
      "Feature 13: FT, Score: 12.181530822716875\n",
      "Feature 14: FTA, Score: 12.948607503633506\n",
      "Feature 15: FT%, Score: 12.894752747170443\n",
      "Feature 16: ORB, Score: 11.795899047723879\n",
      "Feature 17: DRB, Score: 14.858010137338562\n",
      "Feature 18: TRB, Score: 14.781069558771907\n",
      "Feature 19: AST, Score: 15.32511176395179\n",
      "Feature 20: STL, Score: 13.27026518472581\n",
      "Feature 21: BLK, Score: 12.011771206697228\n",
      "Feature 22: TOV, Score: 13.109830541841342\n",
      "Feature 23: PF, Score: 12.917516494981054\n",
      "Feature 24: PTS, Score: 15.385804822668106\n",
      "Feature 25: Team_Value, Score: 9.995001388909737\n",
      "Feature 26: Pos_C, Score: 5.431038907001615\n",
      "Feature 27: Pos_PF, Score: 3.934935594203077\n",
      "Feature 28: Pos_PG, Score: 5.176155546516904\n",
      "Feature 29: Pos_SF, Score: 3.9455641800065564\n",
      "Feature 30: Pos_SG, Score: 4.0980182152445845\n",
      "Feature 31: Signed Using_Bi-annual Exception, Score: 0.2773719146816537\n",
      "Feature 32: Signed Using_Cap Space, Score: 7.69300467715909\n",
      "Feature 33: Signed Using_Early Bird Rights, Score: 5.786792251862279\n",
      "Feature 34: Signed Using_MLE, Score: 2.2082156711202794\n",
      "Feature 35: Signed Using_Maximum Salary, Score: 0.054973589895096\n",
      "Feature 36: Signed Using_Minimum Salary, Score: 4.366672038362021\n",
      "Feature 37: Signed Using_Non-Bird Exception, Score: 0.2527002503906442\n",
      "Feature 38: Signed Using_Room Exception, Score: 1.1837620907376956\n",
      "Feature 39: Signed Using_Sign and Trade, Score: 0.6567069892267574\n",
      "Feature 40: Signed Using_Unknown, Score: 1.7398308428438494\n",
      "Feature 41: Market Size_large, Score: 4.547798431980596\n",
      "Feature 42: Market Size_medium, Score: 7.296789643625272\n",
      "Feature 43: Market Size_small, Score: 5.82431160561031\n",
      "Feature 44: Signed Using_DPE, Score: 0.0\n"
     ]
    },
    {
     "data": {
      "image/png": "[encoded data removed]",
      "text/plain": [
       "<Figure size 720x720 with 1 Axes>"
      ]
     },
     "metadata": {
      "needs_background": "light"
     },
     "output_type": "display_data"
    }
   ],
   "source": [
    "from sklearn.inspection import permutation_importance\n",
    "\n",
    "# perform permutation importance\n",
    "results = permutation_importance(knn, X_train, y_train, scoring='neg_mean_squared_error')\n",
    "\n",
    "# get importance\n",
    "importance = results.importances_mean\n",
    "\n",
    "# summarize feature importance\n",
    "for i in range(len(importance)):\n",
    "    print('Feature ' + str(i) + ': ' + X_train.columns[i] + ', Score: ' + str(importance[i]))\n",
    "    \n",
    "# plot feature importance\n",
    "plt.figure(figsize=(10, 10))\n",
    "plt.bar([x for x in range(len(importance))], importance)\n",
    "plt.xlabel('Feature Number')\n",
    "plt.ylabel('Absolute Feature Importance')\n",
    "plt.show()"
   ]
  },
  {
   "cell_type": "markdown",
   "id": "8ae8b29e",
   "metadata": {},
   "source": [
    "The KNN model is much better at predicting salaries than the linear regression models.  It is still not a great predictor, but the r-squared value is much higher than before, and the RMSE and MAE are lower."
   ]
  },
  {
   "cell_type": "markdown",
   "id": "733f261b",
   "metadata": {},
   "source": [
    "# RandomForest"
   ]
  },
  {
   "cell_type": "code",
   "execution_count": 25,
   "id": "c13483f1",
   "metadata": {},
   "outputs": [],
   "source": [
    "# https://towardsdatascience.com/hyperparameter-tuning-the-random-forest-in-python-using-scikit-learn-28d2aa77dd74\n",
    "\n",
    "from sklearn.model_selection import RandomizedSearchCV\n",
    "# Number of trees in random forest\n",
    "n_estimators = [int(x) for x in np.linspace(start = 200, stop = 2000, num = 10)]\n",
    "# Number of features to consider at every split\n",
    "max_features = ['auto', 'sqrt']\n",
    "# Maximum number of levels in tree\n",
    "max_depth = [int(x) for x in np.linspace(10, 110, num = 11)]\n",
    "max_depth.append(None)\n",
    "# Minimum number of samples required to split a node\n",
    "min_samples_split = [2, 5, 10]\n",
    "# Minimum number of samples required at each leaf node\n",
    "min_samples_leaf = [1, 2, 4]\n",
    "# Method of selecting samples for training each tree\n",
    "bootstrap = [True, False]\n",
    "\n",
    "# Create the random grid\n",
    "random_grid = {'n_estimators': n_estimators,\n",
    "               'max_features': max_features,\n",
    "               'max_depth': max_depth,\n",
    "               'min_samples_split': min_samples_split,\n",
    "               'min_samples_leaf': min_samples_leaf,\n",
    "               'bootstrap': bootstrap}"
   ]
  },
  {
   "cell_type": "code",
   "execution_count": 26,
   "id": "76011690",
   "metadata": {},
   "outputs": [
    {
     "name": "stdout",
     "output_type": "stream",
     "text": [
      "Fitting 3 folds for each of 100 candidates, totalling 300 fits\n"
     ]
    },
    {
     "data": {
      "text/plain": [
       "RandomizedSearchCV(cv=3, estimator=RandomForestRegressor(random_state=10),\n",
       "                   n_iter=100, n_jobs=-1,\n",
       "                   param_distributions={'bootstrap': [True, False],\n",
       "                                        'max_depth': [10, 20, 30, 40, 50, 60,\n",
       "                                                      70, 80, 90, 100, 110,\n",
       "                                                      None],\n",
       "                                        'max_features': ['auto', 'sqrt'],\n",
       "                                        'min_samples_leaf': [1, 2, 4],\n",
       "                                        'min_samples_split': [2, 5, 10],\n",
       "                                        'n_estimators': [200, 400, 600, 800,\n",
       "                                                         1000, 1200, 1400, 1600,\n",
       "                                                         1800, 2000]},\n",
       "                   random_state=10, verbose=2)"
      ]
     },
     "execution_count": 26,
     "metadata": {},
     "output_type": "execute_result"
    }
   ],
   "source": [
    "# https://towardsdatascience.com/hyperparameter-tuning-the-random-forest-in-python-using-scikit-learn-28d2aa77dd74\n",
    "# Use the random grid to search for best hyperparameters\n",
    "# First create the base model to tune\n",
    "rf = RandomForestRegressor(random_state=10)\n",
    "# Random search of parameters, using 3 fold cross validation, \n",
    "# search across 100 different combinations, and use all available cores\n",
    "rf_random = RandomizedSearchCV(estimator = rf, param_distributions = random_grid, n_iter = 100, cv = 3, verbose=2, random_state=10, n_jobs = -1)\n",
    "# Fit the random search model\n",
    "rf_random.fit(X_train, y_train)"
   ]
  },
  {
   "cell_type": "code",
   "execution_count": 27,
   "id": "4751debb",
   "metadata": {},
   "outputs": [
    {
     "data": {
      "text/plain": [
       "{'n_estimators': 800,\n",
       " 'min_samples_split': 2,\n",
       " 'min_samples_leaf': 1,\n",
       " 'max_features': 'sqrt',\n",
       " 'max_depth': 60,\n",
       " 'bootstrap': False}"
      ]
     },
     "execution_count": 27,
     "metadata": {},
     "output_type": "execute_result"
    }
   ],
   "source": [
    "rf_random.best_params_"
   ]
  },
  {
   "cell_type": "code",
   "execution_count": 28,
   "id": "810606a4",
   "metadata": {},
   "outputs": [],
   "source": [
    "rf = RandomForestRegressor(n_estimators=800, min_samples_split=2, min_samples_leaf=1, max_features='sqrt', max_depth=60,\n",
    "                           bootstrap=False, random_state=10)\n",
    "rf.fit(X_train, y_train)\n",
    "y_pred = rf.predict(X_test)"
   ]
  },
  {
   "cell_type": "code",
   "execution_count": 29,
   "id": "8c833293",
   "metadata": {},
   "outputs": [
    {
     "data": {
      "image/png": "[encoded data removed]",
      "text/plain": [
       "<Figure size 360x360 with 1 Axes>"
      ]
     },
     "metadata": {
      "needs_background": "light"
     },
     "output_type": "display_data"
    }
   ],
   "source": [
    "plt.figure(figsize=(5,5))\n",
    "plt.scatter(y_test, y_pred)\n",
    "plt.plot([0, 40], [0, 40], 'k-', c='r')\n",
    "plt.xlabel('Actual')\n",
    "plt.ylabel('Predicted')\n",
    "plt.title('Actual vs Predicted')\n",
    "plt.show()"
   ]
  },
  {
   "cell_type": "code",
   "execution_count": 30,
   "id": "fb940ced",
   "metadata": {},
   "outputs": [
    {
     "name": "stdout",
     "output_type": "stream",
     "text": [
      "The r squared value is 0.5043853906704129\n",
      "The root mean square error is 7.575513190616566\n",
      "The mean absolute error is 6.05189815222355\n"
     ]
    }
   ],
   "source": [
    "print('The r squared value is ' + str(r2_score(y_test, y_pred)))\n",
    "print('The root mean square error is ' + str(rmse_func(rf, X_test, y_test)))\n",
    "print('The mean absolute error is ' + str(mean_absolute_error(y_pred, y_test)))"
   ]
  },
  {
   "cell_type": "code",
   "execution_count": 31,
   "id": "2bcd89b5",
   "metadata": {},
   "outputs": [
    {
     "name": "stdout",
     "output_type": "stream",
     "text": [
      "Feature 0: Age, Score: 3.98048714031774\n",
      "Feature 1: G, Score: 0.1627332637399694\n",
      "Feature 2: GS, Score: 11.09967557641819\n",
      "Feature 3: MP, Score: 1.47179789988273\n",
      "Feature 4: FG, Score: 3.119872367084792\n",
      "Feature 5: FGA, Score: 2.309466581875187\n",
      "Feature 6: FG%, Score: 0.38021928946958466\n",
      "Feature 7: 3P, Score: 0.08594546367033894\n",
      "Feature 8: 3PA, Score: 0.09222893854823513\n",
      "Feature 9: 3P%, Score: 0.27674576105060966\n",
      "Feature 10: 2P, Score: 0.9865283895991332\n",
      "Feature 11: 2PA, Score: 1.3352772190736593\n",
      "Feature 12: 2P%, Score: 0.18139251615788538\n",
      "Feature 13: FT, Score: 1.782023098977351\n",
      "Feature 14: FTA, Score: 1.7581150943943638\n",
      "Feature 15: FT%, Score: 0.20330429469752018\n",
      "Feature 16: ORB, Score: 0.15582357986576945\n",
      "Feature 17: DRB, Score: 1.6198002660458424\n",
      "Feature 18: TRB, Score: 0.7881937757914816\n",
      "Feature 19: AST, Score: 2.9302564515537215\n",
      "Feature 20: STL, Score: 0.19040931759478158\n",
      "Feature 21: BLK, Score: 0.2572303905383201\n",
      "Feature 22: TOV, Score: 1.2159660586917607\n",
      "Feature 23: PF, Score: 1.1193892820167515\n",
      "Feature 24: PTS, Score: 4.617083540723572\n",
      "Feature 25: Team_Value, Score: 0.14407328962238813\n",
      "Feature 26: Pos_C, Score: 0.012009171930562964\n",
      "Feature 27: Pos_PF, Score: 0.014038030720217077\n",
      "Feature 28: Pos_PG, Score: 0.04653147068397155\n",
      "Feature 29: Pos_SF, Score: 0.058241612396961705\n",
      "Feature 30: Pos_SG, Score: 0.01300374217126293\n",
      "Feature 31: Signed Using_Bi-annual Exception, Score: 6.273992380060903e-06\n",
      "Feature 32: Signed Using_Cap Space, Score: 1.506117744374711\n",
      "Feature 33: Signed Using_Early Bird Rights, Score: 0.42795966166918725\n",
      "Feature 34: Signed Using_MLE, Score: 0.04595296371562017\n",
      "Feature 35: Signed Using_Maximum Salary, Score: 0.00029729174405064\n",
      "Feature 36: Signed Using_Minimum Salary, Score: 1.1203828135960845\n",
      "Feature 37: Signed Using_Non-Bird Exception, Score: 4.276133295435608e-05\n",
      "Feature 38: Signed Using_Room Exception, Score: 0.0013040266118618288\n",
      "Feature 39: Signed Using_Sign and Trade, Score: 0.014797263543652536\n",
      "Feature 40: Signed Using_Unknown, Score: 0.15951606859332373\n",
      "Feature 41: Market Size_large, Score: 0.009858227927911953\n",
      "Feature 42: Market Size_medium, Score: 0.006040702207246837\n",
      "Feature 43: Market Size_small, Score: 0.015400993642265834\n",
      "Feature 44: Signed Using_DPE, Score: 0.0\n"
     ]
    },
    {
     "data": {
      "image/png": "[encoded data removed]",
      "text/plain": [
       "<Figure size 720x720 with 1 Axes>"
      ]
     },
     "metadata": {
      "needs_background": "light"
     },
     "output_type": "display_data"
    }
   ],
   "source": [
    "# perform permutation importance\n",
    "results = permutation_importance(rf, X_train, y_train, scoring='neg_mean_squared_error')\n",
    "\n",
    "# get importance\n",
    "importance = results.importances_mean\n",
    "\n",
    "# summarize feature importance\n",
    "for i in range(len(importance)):\n",
    "    print('Feature ' + str(i) + ': ' + X_train.columns[i] + ', Score: ' + str(importance[i]))\n",
    "    \n",
    "# plot feature importance\n",
    "plt.figure(figsize=(10, 10))\n",
    "plt.bar([x for x in range(len(importance))], importance)\n",
    "plt.xlabel('Feature Number')\n",
    "plt.ylabel('Absolute Feature Importance')\n",
    "plt.show()"
   ]
  },
  {
   "cell_type": "markdown",
   "id": "a904f9a2",
   "metadata": {},
   "source": [
    "# Results\n",
    "\n",
    "The random forest model and the KNN model had similar results, much better than the linear regression models. The random forest model can be considered marginally better than the KNN model because it has a slightly higher r-squared value and the same RMSE value, even though it has a slightly higher MAE.\n",
    "\n",
    "In a situation where more data was available, KNN might perform better becuase it would be expected that point clusters would be more dense and closer neighbors could be selected."
   ]
  }
 ],
 "metadata": {
  "kernelspec": {
   "display_name": "Python 3",
   "language": "python",
   "name": "python3"
  },
  "language_info": {
   "codemirror_mode": {
    "name": "ipython",
    "version": 3
   },
   "file_extension": ".py",
   "mimetype": "text/x-python",
   "name": "python",
   "nbconvert_exporter": "python",
   "pygments_lexer": "ipython3",
   "version": "3.8.8"
  }
 },
 "nbformat": 4,
 "nbformat_minor": 5
}
