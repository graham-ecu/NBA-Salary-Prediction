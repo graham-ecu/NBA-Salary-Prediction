{
 "cells": [
  {
   "cell_type": "markdown",
   "id": "152d6621",
   "metadata": {},
   "source": [
    "The purpose of this notebook is to create several models to predict salary based on key player stats and to compare the different model results."
   ]
  },
  {
   "cell_type": "code",
   "execution_count": 1,
   "id": "dd089ddb",
   "metadata": {},
   "outputs": [],
   "source": [
    "# basic imports\n",
    "import pandas as pd\n",
    "import numpy as np\n",
    "import matplotlib.pyplot as plt\n",
    "import seaborn as sns\n",
    "\n",
    "# model specific imports\n",
    "from sklearn.model_selection import train_test_split\n",
    "from sklearn.linear_model import LinearRegression\n",
    "from sklearn.metrics import r2_score\n",
    "from sklearn.metrics import mean_absolute_error\n",
    "from sklearn.metrics import mean_squared_error\n",
    "from sklearn.linear_model import Ridge\n",
    "from sklearn.linear_model import Lasso\n",
    "from sklearn.model_selection import cross_validate\n",
    "from sklearn.neighbors import KNeighborsRegressor\n",
    "from sklearn.ensemble import RandomForestRegressor"
   ]
  },
  {
   "cell_type": "code",
   "execution_count": 2,
   "id": "0a286f49",
   "metadata": {},
   "outputs": [
    {
     "name": "stdout",
     "output_type": "stream",
     "text": [
      "(116, 45) (39, 45) (52, 45) (116, 1) (39, 1) (52, 1)\n"
     ]
    }
   ],
   "source": [
    "# load the train/test data that was pre-processed in a previous notebook\n",
    "X_train = pd.read_csv('NBA X_train', index_col=0)\n",
    "X_test = pd.read_csv('NBA X_test', index_col=0)\n",
    "y_train = pd.read_csv('NBA y_train', index_col=0)\n",
    "y_test = pd.read_csv('NBA y_test', index_col=0)\n",
    "\n",
    "# create a validation set\n",
    "X_train, X_val, y_train, y_val = train_test_split(X_train, y_train, test_size=0.25, random_state=10)\n",
    "\n",
    "print(X_train.shape, X_val.shape, X_test.shape, y_train.shape, y_val.shape, y_test.shape)"
   ]
  },
  {
   "cell_type": "code",
   "execution_count": 3,
   "id": "e1a4100f",
   "metadata": {},
   "outputs": [],
   "source": [
    "# define rmse function\n",
    "\n",
    "def rmse_func(model, X, y):\n",
    "    predictions = model.predict(X)\n",
    "    rmse = np.sqrt(mean_squared_error(predictions, y))\n",
    "    return(rmse)"
   ]
  },
  {
   "cell_type": "markdown",
   "id": "d636c94a",
   "metadata": {},
   "source": [
    "# Linear Regression Model"
   ]
  },
  {
   "cell_type": "code",
   "execution_count": 4,
   "id": "c47dcd09",
   "metadata": {},
   "outputs": [],
   "source": [
    "# initiate the linear regression model and fit it to the training data\n",
    "lm = LinearRegression()\n",
    "lm.fit(X_train, y_train)\n",
    "\n",
    "# predict the test set results\n",
    "y_pred = lm.predict(X_test)"
   ]
  },
  {
   "cell_type": "markdown",
   "id": "2e2b7066",
   "metadata": {},
   "source": [
    "Evaluate the Linear Regression Model"
   ]
  },
  {
   "cell_type": "code",
   "execution_count": 5,
   "id": "9e97785f",
   "metadata": {},
   "outputs": [
    {
     "name": "stdout",
     "output_type": "stream",
     "text": [
      "The r-squared value is -0.0020774553629308024\n",
      "The root mean square error is 10.771858867295135\n",
      "The mean absolute error is 8.616003359311526\n"
     ]
    }
   ],
   "source": [
    "print('The r-squared value is ' + str(r2_score(y_test, y_pred)))\n",
    "print('The root mean square error is ' + str(rmse_func(lm, X_test, y_test)))\n",
    "print('The mean absolute error is ' + str(mean_absolute_error(y_pred, y_test)))"
   ]
  },
  {
   "cell_type": "code",
   "execution_count": 6,
   "id": "800868fc",
   "metadata": {},
   "outputs": [
    {
     "data": {
      "image/png": "[encoded data removed]",
      "text/plain": [
       "<Figure size 360x360 with 1 Axes>"
      ]
     },
     "metadata": {
      "needs_background": "light"
     },
     "output_type": "display_data"
    }
   ],
   "source": [
    "plt.figure(figsize=(5,5))\n",
    "plt.scatter(y_test, y_pred)\n",
    "plt.plot([0,40], [0,40], 'k-', color='r')\n",
    "plt.xlabel('Actual')\n",
    "plt.ylabel('Predicted')\n",
    "plt.title('Actual vs Predicted')\n",
    "plt.show()"
   ]
  },
  {
   "cell_type": "markdown",
   "id": "936741e6",
   "metadata": {},
   "source": [
    "Even as a first attempt, this is not a very good model.  The r squared value is close to 0 and there are several predicted values below 0, meaning a player would be losing money by playing, which is obviously not true.  Ideally, the actual vs predicted plot points would all be on the red line or very near to it."
   ]
  },
  {
   "cell_type": "markdown",
   "id": "de4fedbb",
   "metadata": {},
   "source": [
    "# Ridge Regression"
   ]
  },
  {
   "cell_type": "code",
   "execution_count": 7,
   "id": "bf2e4024",
   "metadata": {},
   "outputs": [
    {
     "data": {
      "image/png": "[encoded data removed]",
      "text/plain": [
       "<Figure size 432x288 with 1 Axes>"
      ]
     },
     "metadata": {
      "needs_background": "light"
     },
     "output_type": "display_data"
    }
   ],
   "source": [
    "# find optimal alpha value\n",
    "alphas = np.arange(0.1, 50, 1)\n",
    "r2_scores = []\n",
    "rmses = []\n",
    "maes = []\n",
    "\n",
    "for alpha in alphas:\n",
    "    ridge = Ridge(alpha=alpha)\n",
    "    ridge.fit(X_train, y_train)\n",
    "    y_pred = ridge.predict(X_val)\n",
    "    r2_scores.append(r2_score(y_val, y_pred))\n",
    "    rmses.append(rmse_func(ridge, X_val, y_val))\n",
    "    maes.append(mean_absolute_error(y_pred, y_val))\n",
    "    \n",
    "plt.plot(alphas, r2_scores, label='r2')\n",
    "plt.plot(alphas, rmses, label='rmse')\n",
    "plt.plot(alphas, maes, label='mae')\n",
    "plt.xlabel('alpha')\n",
    "plt.legend()\n",
    "plt.show()"
   ]
  },
  {
   "cell_type": "code",
   "execution_count": 8,
   "id": "ace298cf",
   "metadata": {},
   "outputs": [
    {
     "name": "stdout",
     "output_type": "stream",
     "text": [
      "0.1 0.1 0.1\n"
     ]
    }
   ],
   "source": [
    "max_r2 = max(r2_scores)\n",
    "max_index = r2_scores.index(max_r2)\n",
    "best_alpha_r2 = alphas[max_index]\n",
    "\n",
    "min_rmse = min(rmses)\n",
    "min_index = rmses.index(min_rmse)\n",
    "best_alpha_rmse = alphas[min_index]\n",
    "\n",
    "min_mae = min(maes)\n",
    "min_index = maes.index(min_mae)\n",
    "best_alpha_mae = alphas[min_index]\n",
    "\n",
    "print(best_alpha_r2, best_alpha_rmse, best_alpha_mae)"
   ]
  },
  {
   "cell_type": "code",
   "execution_count": 9,
   "id": "339c9580",
   "metadata": {},
   "outputs": [],
   "source": [
    "ridge = Ridge(alpha=0.1)\n",
    "ridge.fit(X_train, y_train)\n",
    "y_pred = ridge.predict(X_test)"
   ]
  },
  {
   "cell_type": "code",
   "execution_count": 10,
   "id": "fdf25add",
   "metadata": {},
   "outputs": [
    {
     "data": {
      "image/png": "[encoded data removed]",
      "text/plain": [
       "<Figure size 360x360 with 1 Axes>"
      ]
     },
     "metadata": {
      "needs_background": "light"
     },
     "output_type": "display_data"
    }
   ],
   "source": [
    "plt.figure(figsize=(5,5))\n",
    "plt.scatter(y_test, y_pred)\n",
    "plt.plot([0, 40], [0, 40], 'k-', c='r')\n",
    "plt.xlabel('Actual')\n",
    "plt.ylabel('Predicted')\n",
    "plt.title('Actual vs Predicted')\n",
    "plt.show()"
   ]
  },
  {
   "cell_type": "code",
   "execution_count": 11,
   "id": "700b710c",
   "metadata": {},
   "outputs": [
    {
     "name": "stdout",
     "output_type": "stream",
     "text": [
      "The r squared value is 0.04771483169034263\n",
      "The root mean square error is 10.500827374005986\n",
      "The mean absolute error is 8.639490917464295\n"
     ]
    }
   ],
   "source": [
    "print('The r squared value is ' + str(r2_score(y_test, y_pred)))\n",
    "print('The root mean square error is ' + str(rmse_func(ridge, X_test, y_test)))\n",
    "print('The mean absolute error is ' + str(mean_absolute_error(y_pred, y_test)))"
   ]
  },
  {
   "cell_type": "markdown",
   "id": "888f5288",
   "metadata": {},
   "source": [
    "# Lasso"
   ]
  },
  {
   "cell_type": "code",
   "execution_count": 12,
   "id": "a08afd07",
   "metadata": {},
   "outputs": [
    {
     "name": "stderr",
     "output_type": "stream",
     "text": [
      "<ipython-input-12-783d6b314cbe>:9: UserWarning: With alpha=0, this algorithm does not converge well. You are advised to use the LinearRegression estimator\n",
      "  ridge.fit(X_train, y_train)\n",
      "C:\\Users\\Matthew\\anaconda3\\lib\\site-packages\\sklearn\\linear_model\\_coordinate_descent.py:530: UserWarning: Coordinate descent with no regularization may lead to unexpected results and is discouraged.\n",
      "  model = cd_fast.enet_coordinate_descent(\n",
      "C:\\Users\\Matthew\\anaconda3\\lib\\site-packages\\sklearn\\linear_model\\_coordinate_descent.py:530: ConvergenceWarning: Objective did not converge. You might want to increase the number of iterations. Duality gap: 1268.913568941011, tolerance: 1.3651873115179256\n",
      "  model = cd_fast.enet_coordinate_descent(\n"
     ]
    },
    {
     "data": {
      "image/png": "[encoded data removed]",
      "text/plain": [
       "<Figure size 432x288 with 1 Axes>"
      ]
     },
     "metadata": {
      "needs_background": "light"
     },
     "output_type": "display_data"
    }
   ],
   "source": [
    "# find optimal alpha value\n",
    "alphas = np.arange(0, 1, 0.1)\n",
    "r2_scores = []\n",
    "rmses = []\n",
    "maes = []\n",
    "\n",
    "for alpha in alphas:\n",
    "    ridge = Lasso(alpha=alpha)\n",
    "    ridge.fit(X_train, y_train)\n",
    "    y_pred = ridge.predict(X_val)\n",
    "    r2_scores.append(r2_score(y_val, y_pred))\n",
    "    rmses.append(rmse_func(ridge, X_val, y_val))\n",
    "    maes.append(mean_absolute_error(y_pred, y_val))\n",
    "    \n",
    "plt.plot(alphas, r2_scores, label='r2')\n",
    "plt.plot(alphas, rmses, label='rmse')\n",
    "plt.plot(alphas, maes, label='mae')\n",
    "plt.xlabel('alpha')\n",
    "plt.legend()\n",
    "plt.show()"
   ]
  },
  {
   "cell_type": "code",
   "execution_count": 13,
   "id": "049704d5",
   "metadata": {},
   "outputs": [
    {
     "name": "stdout",
     "output_type": "stream",
     "text": [
      "0.0 0.0 0.1\n"
     ]
    }
   ],
   "source": [
    "max_r2 = max(r2_scores)\n",
    "max_index = r2_scores.index(max_r2)\n",
    "best_alpha_r2 = alphas[max_index]\n",
    "\n",
    "min_rmse = min(rmses)\n",
    "min_index = rmses.index(min_rmse)\n",
    "best_alpha_rmse = alphas[min_index]\n",
    "\n",
    "min_mae = min(maes)\n",
    "min_index = maes.index(min_mae)\n",
    "best_alpha_mae = alphas[min_index]\n",
    "\n",
    "print(best_alpha_r2, best_alpha_rmse, best_alpha_mae)"
   ]
  },
  {
   "cell_type": "code",
   "execution_count": 14,
   "id": "f0c9c0b1",
   "metadata": {},
   "outputs": [
    {
     "name": "stderr",
     "output_type": "stream",
     "text": [
      "<ipython-input-14-0db4f27ea642>:2: UserWarning: With alpha=0, this algorithm does not converge well. You are advised to use the LinearRegression estimator\n",
      "  las.fit(X_train, y_train)\n",
      "C:\\Users\\Matthew\\anaconda3\\lib\\site-packages\\sklearn\\linear_model\\_coordinate_descent.py:530: UserWarning: Coordinate descent with no regularization may lead to unexpected results and is discouraged.\n",
      "  model = cd_fast.enet_coordinate_descent(\n",
      "C:\\Users\\Matthew\\anaconda3\\lib\\site-packages\\sklearn\\linear_model\\_coordinate_descent.py:530: ConvergenceWarning: Objective did not converge. You might want to increase the number of iterations. Duality gap: 1268.913568941011, tolerance: 1.3651873115179256\n",
      "  model = cd_fast.enet_coordinate_descent(\n"
     ]
    },
    {
     "data": {
      "image/png": "[encoded data removed]",
      "text/plain": [
       "<Figure size 360x360 with 1 Axes>"
      ]
     },
     "metadata": {
      "needs_background": "light"
     },
     "output_type": "display_data"
    }
   ],
   "source": [
    "las = Lasso(alpha=0)\n",
    "las.fit(X_train, y_train)\n",
    "y_pred = las.predict(X_test)\n",
    "\n",
    "plt.figure(figsize=(5,5))\n",
    "plt.scatter(y_test, y_pred)\n",
    "plt.plot([0, 40], [0, 40], 'k-', c='r')\n",
    "plt.xlabel('Actual')\n",
    "plt.ylabel('Predicted')\n",
    "plt.title('Actual vs Predicted')\n",
    "plt.show()"
   ]
  },
  {
   "cell_type": "code",
   "execution_count": 15,
   "id": "5bb1e89b",
   "metadata": {},
   "outputs": [
    {
     "name": "stdout",
     "output_type": "stream",
     "text": [
      "The r squared value is -0.07818295185534141\n",
      "The root mean square error is 11.173422966262681\n",
      "The mean absolute error is 9.023415060625396\n"
     ]
    }
   ],
   "source": [
    "print('The r squared value is ' + str(r2_score(y_test, y_pred)))\n",
    "print('The root mean square error is ' + str(rmse_func(las, X_test, y_test)))\n",
    "print('The mean absolute error is ' + str(mean_absolute_error(y_pred, y_test)))"
   ]
  },
  {
   "cell_type": "markdown",
   "id": "59097159",
   "metadata": {},
   "source": [
    "In general, none of the linear regression models perform very well with this dataset.  They all have very low r-squared values and high RMSE and MAE values relative to the range of salaries in the dataset."
   ]
  },
  {
   "cell_type": "markdown",
   "id": "330c47c1",
   "metadata": {},
   "source": [
    "# KNN Regression"
   ]
  },
  {
   "cell_type": "code",
   "execution_count": 16,
   "id": "23687052",
   "metadata": {},
   "outputs": [
    {
     "data": {
      "image/png": "[encoded data removed]",
      "text/plain": [
       "<Figure size 432x288 with 1 Axes>"
      ]
     },
     "metadata": {
      "needs_background": "light"
     },
     "output_type": "display_data"
    }
   ],
   "source": [
    "# optimize k\n",
    "k_vals = np.arange(1, 10, 1)\n",
    "r2_scores = []\n",
    "rmses = []\n",
    "maes = []\n",
    "\n",
    "for k in k_vals:\n",
    "    knn = KNeighborsRegressor(n_neighbors=k, weights='distance')\n",
    "    knn.fit(X_train, y_train)\n",
    "    y_pred = knn.predict(X_val)\n",
    "    r2_scores.append(r2_score(y_val, y_pred))\n",
    "    rmses.append(rmse_func(knn, X_val, y_val))\n",
    "    maes.append(mean_absolute_error(y_pred, y_val))\n",
    "    \n",
    "plt.plot(k_vals, r2_scores, label='r2')\n",
    "plt.plot(k_vals, rmses, label='rmse')\n",
    "plt.plot(k_vals, maes, label='mae')\n",
    "plt.xlabel('k_value')\n",
    "plt.legend()\n",
    "plt.show()"
   ]
  },
  {
   "cell_type": "code",
   "execution_count": 17,
   "id": "7faf6221",
   "metadata": {},
   "outputs": [
    {
     "name": "stdout",
     "output_type": "stream",
     "text": [
      "5 5 2\n"
     ]
    }
   ],
   "source": [
    "max_r2 = max(r2_scores)\n",
    "max_index = r2_scores.index(max_r2)\n",
    "best_k_r2 = k_vals[max_index]\n",
    "\n",
    "min_rmse = min(rmses)\n",
    "min_index = rmses.index(min_rmse)\n",
    "best_k_rmse = k_vals[min_index]\n",
    "\n",
    "min_mae = min(maes)\n",
    "min_index = maes.index(min_mae)\n",
    "best_k_mae = k_vals[min_index]\n",
    "\n",
    "print(best_k_r2, best_k_rmse, best_k_mae)"
   ]
  },
  {
   "cell_type": "code",
   "execution_count": 18,
   "id": "7ca0b685",
   "metadata": {},
   "outputs": [
    {
     "data": {
      "image/png": "[encoded data removed]",
      "text/plain": [
       "<Figure size 360x360 with 1 Axes>"
      ]
     },
     "metadata": {
      "needs_background": "light"
     },
     "output_type": "display_data"
    }
   ],
   "source": [
    "knn = KNeighborsRegressor(n_neighbors=5, weights='distance')\n",
    "knn.fit(X_train, y_train)\n",
    "y_pred = knn.predict(X_test)\n",
    "\n",
    "plt.figure(figsize=(5,5))\n",
    "plt.scatter(y_test, y_pred)\n",
    "plt.plot([0, 40], [0, 40], 'k-', c='r')\n",
    "plt.xlabel('Actual')\n",
    "plt.ylabel('Predicted')\n",
    "plt.title('Actual vs Predicted')\n",
    "plt.show()"
   ]
  },
  {
   "cell_type": "code",
   "execution_count": 19,
   "id": "8f361fa3",
   "metadata": {},
   "outputs": [
    {
     "name": "stdout",
     "output_type": "stream",
     "text": [
      "The r squared value is 0.47230712764370664\n",
      "The root mean square error is 7.8168292064011755\n",
      "The mean absolute error is 5.869499472120446\n"
     ]
    }
   ],
   "source": [
    "print('The r squared value is ' + str(r2_score(y_test, y_pred)))\n",
    "print('The root mean square error is ' + str(rmse_func(knn, X_test, y_test)))\n",
    "print('The mean absolute error is ' + str(mean_absolute_error(y_pred, y_test)))"
   ]
  },
  {
   "cell_type": "markdown",
   "id": "8ae8b29e",
   "metadata": {},
   "source": [
    "The KNN model is much better at predicting salaries than the linear regression models.  It is still not a great predictor, but the r-squared value is much higher than before, and the RMSE and MAE are lower."
   ]
  },
  {
   "cell_type": "markdown",
   "id": "733f261b",
   "metadata": {},
   "source": [
    "# RandomForest"
   ]
  },
  {
   "cell_type": "code",
   "execution_count": 20,
   "id": "c13483f1",
   "metadata": {},
   "outputs": [],
   "source": [
    "# https://towardsdatascience.com/hyperparameter-tuning-the-random-forest-in-python-using-scikit-learn-28d2aa77dd74\n",
    "\n",
    "from sklearn.model_selection import RandomizedSearchCV\n",
    "# Number of trees in random forest\n",
    "n_estimators = [int(x) for x in np.linspace(start = 200, stop = 2000, num = 10)]\n",
    "# Number of features to consider at every split\n",
    "max_features = ['auto', 'sqrt']\n",
    "# Maximum number of levels in tree\n",
    "max_depth = [int(x) for x in np.linspace(10, 110, num = 11)]\n",
    "max_depth.append(None)\n",
    "# Minimum number of samples required to split a node\n",
    "min_samples_split = [2, 5, 10]\n",
    "# Minimum number of samples required at each leaf node\n",
    "min_samples_leaf = [1, 2, 4]\n",
    "# Method of selecting samples for training each tree\n",
    "bootstrap = [True, False]\n",
    "\n",
    "# Create the random grid\n",
    "random_grid = {'n_estimators': n_estimators,\n",
    "               'max_features': max_features,\n",
    "               'max_depth': max_depth,\n",
    "               'min_samples_split': min_samples_split,\n",
    "               'min_samples_leaf': min_samples_leaf,\n",
    "               'bootstrap': bootstrap}"
   ]
  },
  {
   "cell_type": "code",
   "execution_count": 21,
   "id": "76011690",
   "metadata": {},
   "outputs": [
    {
     "name": "stdout",
     "output_type": "stream",
     "text": [
      "Fitting 3 folds for each of 100 candidates, totalling 300 fits\n"
     ]
    },
    {
     "name": "stderr",
     "output_type": "stream",
     "text": [
      "C:\\Users\\Matthew\\anaconda3\\lib\\site-packages\\sklearn\\model_selection\\_search.py:880: DataConversionWarning: A column-vector y was passed when a 1d array was expected. Please change the shape of y to (n_samples,), for example using ravel().\n",
      "  self.best_estimator_.fit(X, y, **fit_params)\n"
     ]
    },
    {
     "data": {
      "text/plain": [
       "RandomizedSearchCV(cv=3, estimator=RandomForestRegressor(random_state=10),\n",
       "                   n_iter=100, n_jobs=-1,\n",
       "                   param_distributions={'bootstrap': [True, False],\n",
       "                                        'max_depth': [10, 20, 30, 40, 50, 60,\n",
       "                                                      70, 80, 90, 100, 110,\n",
       "                                                      None],\n",
       "                                        'max_features': ['auto', 'sqrt'],\n",
       "                                        'min_samples_leaf': [1, 2, 4],\n",
       "                                        'min_samples_split': [2, 5, 10],\n",
       "                                        'n_estimators': [200, 400, 600, 800,\n",
       "                                                         1000, 1200, 1400, 1600,\n",
       "                                                         1800, 2000]},\n",
       "                   random_state=10, verbose=2)"
      ]
     },
     "execution_count": 21,
     "metadata": {},
     "output_type": "execute_result"
    }
   ],
   "source": [
    "# https://towardsdatascience.com/hyperparameter-tuning-the-random-forest-in-python-using-scikit-learn-28d2aa77dd74\n",
    "# Use the random grid to search for best hyperparameters\n",
    "# First create the base model to tune\n",
    "rf = RandomForestRegressor(random_state=10)\n",
    "# Random search of parameters, using 3 fold cross validation, \n",
    "# search across 100 different combinations, and use all available cores\n",
    "rf_random = RandomizedSearchCV(estimator = rf, param_distributions = random_grid, n_iter = 100, cv = 3, verbose=2, random_state=10, n_jobs = -1)\n",
    "# Fit the random search model\n",
    "rf_random.fit(X_train, y_train)"
   ]
  },
  {
   "cell_type": "code",
   "execution_count": 22,
   "id": "4751debb",
   "metadata": {},
   "outputs": [
    {
     "data": {
      "text/plain": [
       "{'n_estimators': 800,\n",
       " 'min_samples_split': 2,\n",
       " 'min_samples_leaf': 1,\n",
       " 'max_features': 'sqrt',\n",
       " 'max_depth': 60,\n",
       " 'bootstrap': False}"
      ]
     },
     "execution_count": 22,
     "metadata": {},
     "output_type": "execute_result"
    }
   ],
   "source": [
    "rf_random.best_params_"
   ]
  },
  {
   "cell_type": "code",
   "execution_count": 23,
   "id": "810606a4",
   "metadata": {},
   "outputs": [
    {
     "name": "stderr",
     "output_type": "stream",
     "text": [
      "<ipython-input-23-dd99be507617>:3: DataConversionWarning: A column-vector y was passed when a 1d array was expected. Please change the shape of y to (n_samples,), for example using ravel().\n",
      "  rf.fit(X_train, y_train)\n"
     ]
    }
   ],
   "source": [
    "rf = RandomForestRegressor(n_estimators=800, min_samples_split=2, min_samples_leaf=1, max_features='sqrt', max_depth=60,\n",
    "                           bootstrap=False, random_state=10)\n",
    "rf.fit(X_train, y_train)\n",
    "y_pred = rf.predict(X_test)"
   ]
  },
  {
   "cell_type": "code",
   "execution_count": 24,
   "id": "8c833293",
   "metadata": {},
   "outputs": [
    {
     "data": {
      "image/png": "[encoded data removed]",
      "text/plain": [
       "<Figure size 360x360 with 1 Axes>"
      ]
     },
     "metadata": {
      "needs_background": "light"
     },
     "output_type": "display_data"
    }
   ],
   "source": [
    "plt.figure(figsize=(5,5))\n",
    "plt.scatter(y_test, y_pred)\n",
    "plt.plot([0, 40], [0, 40], 'k-', c='r')\n",
    "plt.xlabel('Actual')\n",
    "plt.ylabel('Predicted')\n",
    "plt.title('Actual vs Predicted')\n",
    "plt.show()"
   ]
  },
  {
   "cell_type": "code",
   "execution_count": 25,
   "id": "fb940ced",
   "metadata": {},
   "outputs": [
    {
     "name": "stdout",
     "output_type": "stream",
     "text": [
      "The r squared value is 0.5043853906704129\n",
      "The root mean square error is 7.8168292064011755\n",
      "The mean absolute error is 6.05189815222355\n"
     ]
    }
   ],
   "source": [
    "print('The r squared value is ' + str(r2_score(y_test, y_pred)))\n",
    "print('The root mean square error is ' + str(rmse_func(knn, X_test, y_test)))\n",
    "print('The mean absolute error is ' + str(mean_absolute_error(y_pred, y_test)))"
   ]
  },
  {
   "cell_type": "markdown",
   "id": "a904f9a2",
   "metadata": {},
   "source": [
    "# Results\n",
    "\n",
    "The random forest model and the KNN model had similar results, much better than the linear regression models. The random forest model can be considered marginally better than the KNN model because it has a slightly higher r-squared value and the same RMSE value, even though it has a slightly higher MAE.\n",
    "\n",
    "In a situation where more data was available, KNN might perform better becuase it would be expected that point clusters would be more dense and closer neighbors could be selected."
   ]
  }
 ],
 "metadata": {
  "kernelspec": {
   "display_name": "Python 3",
   "language": "python",
   "name": "python3"
  },
  "language_info": {
   "codemirror_mode": {
    "name": "ipython",
    "version": 3
   },
   "file_extension": ".py",
   "mimetype": "text/x-python",
   "name": "python",
   "nbconvert_exporter": "python",
   "pygments_lexer": "ipython3",
   "version": "3.8.8"
  }
 },
 "nbformat": 4,
 "nbformat_minor": 5
}
